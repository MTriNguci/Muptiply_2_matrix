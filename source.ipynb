{
 "cells": [
  {
   "cell_type": "code",
   "execution_count": 1,
   "metadata": {},
   "outputs": [],
   "source": [
    "#21120574 Nguyễn Minh Trí"
   ]
  },
  {
   "cell_type": "markdown",
   "metadata": {},
   "source": [
    "\n",
    "<h1 align=\"center\">TIME COMPARISON IN MUPTIPLYING 2-D MATRICES USING:</h1>\n",
    "<h1 align=\"center\">PYTHON LIST, NUMPY, C</h1>"
   ]
  },
  {
   "cell_type": "code",
   "execution_count": 2,
   "metadata": {},
   "outputs": [
    {
     "name": "stdout",
     "output_type": "stream",
     "text": [
      "Requirement already satisfied: numpy in /home/minhtringuci/miniconda3/envs/min_ds-env/lib/python3.8/site-packages (1.20.2)\r\n"
     ]
    }
   ],
   "source": [
    "!pip install numpy"
   ]
  },
  {
   "cell_type": "markdown",
   "metadata": {},
   "source": [
    "\n",
    "**Import necessary libraries and modules**\n",
    "\n",
    "- **time**: used to calculate the execution time of matrix multiplication\n",
    "- **matplotlib.pyplot**: used to draw a graph representing the runtime\n",
    "- **numpy**: uses the specialized function matmul() for calculating the product of two matrices\n",
    "- **sys**: prints the process of matrix multiplication using python list (if needed)"
   ]
  },
  {
   "cell_type": "code",
   "execution_count": 3,
   "metadata": {},
   "outputs": [],
   "source": [
    "import time\n",
    "import numpy as np\n",
    "import sys\n",
    "import matplotlib.pyplot as plt"
   ]
  },
  {
   "cell_type": "markdown",
   "metadata": {},
   "source": [
    "<h1> Generate 2 Matric Randomly </h1>"
   ]
  },
  {
   "cell_type": "markdown",
   "metadata": {},
   "source": [
    "To conveniently measure the runtime for each matrix size automatically, for each matrix size, we must:\n",
    "\n",
    "- Randomly generate two matrices to be used for the three matrix multiplication methods.\n",
    "- Each element of the matrix has a random int value from -50 to 50.\n",
    "- Finally, write the two matrices to the **‘input.txt’** file. This process allows us to automate the performance measurement of different matrix multiplication methods."
   ]
  },
  {
   "cell_type": "code",
   "execution_count": 4,
   "metadata": {},
   "outputs": [],
   "source": [
    "\n",
    "def Generate(N):\n",
    "    # Tạo ma trận ngẫu nhiên\n",
    "    N = int(N)\n",
    "    a = np.random.randint(-50, 51, size=(N, N))\n",
    "    b = np.random.randint(-50, 51, size=(N, N))\n",
    "\n",
    "    # Mở file để ghi\n",
    "    with open('input.txt', 'w') as f:\n",
    "        # Ghi kích thước ma trận\n",
    "        f.write(f\"{N} {N} {N}\\n\\n\")\n",
    "\n",
    "        # Ghi ma trận a\n",
    "        for row in a:\n",
    "            f.write(' '.join(map(str, row)))\n",
    "            f.write('\\n')\n",
    "        f.write('\\n')\n",
    "\n",
    "        # Ghi ma trận b\n",
    "        for row in b:\n",
    "            f.write(' '.join(map(str, row)))\n",
    "            f.write('\\n')\n",
    "    print(\"               GENERATE SUCCESS \")\n"
   ]
  },
  {
   "cell_type": "markdown",
   "metadata": {},
   "source": [
    "<h1 align=\"center\"> MUPTIPLY </h1>"
   ]
  },
  {
   "cell_type": "markdown",
   "metadata": {},
   "source": [
    " SOME NECESSARY FUNCTIONS FOR MATRIX MULTIPLICATION USING THREE METHODS"
   ]
  },
  {
   "cell_type": "markdown",
   "metadata": {},
   "source": [
    "<h1> 1.Muptiply 2 Matrices in Python, without using Numpy "
   ]
  },
  {
   "cell_type": "markdown",
   "metadata": {},
   "source": [
    "<h3>1.1 READ FILE </h3>"
   ]
  },
  {
   "cell_type": "code",
   "execution_count": 5,
   "metadata": {},
   "outputs": [],
   "source": [
    "# Read file and assign to 2 matrix a b\n",
    "def py_read():\n",
    "    with open('input.txt', 'r') as f:\n",
    "        n, m, p = map(int, f.readline().split())\n",
    "        f.readline()\n",
    "        a = [list(map(int, f.readline().split())) for _ in range(n)]\n",
    "        f.readline()  # Đọc dòng trống\n",
    "        b = [list(map(int, f.readline().split())) for _ in range(m)]\n",
    "    return a,b\n",
    "    # Khởi tạo ma trận kết quả"
   ]
  },
  {
   "cell_type": "markdown",
   "metadata": {},
   "source": [
    "**Note**: n, m, p là kích thước 2 ma trận vuông.\n",
    "Vì ban đầu em nghĩ là sẽ nhân 2 ma trận kích thước khác nhau\n",
    "=> việc này không ảnh hưởng đến việc đo đạc trong bài tập này, mong thầy thông cảm bỏ qua <3 "
   ]
  },
  {
   "cell_type": "markdown",
   "metadata": {},
   "source": [
    "<h3>1.2 MUPTIPLY 2 MATRICES WITH PURE PYTHON LIST</h3>"
   ]
  },
  {
   "cell_type": "code",
   "execution_count": 6,
   "metadata": {},
   "outputs": [],
   "source": [
    "\n",
    "def py_muptiply(a,b,size,ans):\n",
    "    size = int(size)\n",
    "    for i in range(size):\n",
    "        for j in range(size):\n",
    "            for k in range(size):\n",
    "                 ans[i][j] += a[i][k] * b[k][j]\n",
    "                  \n",
    "#         sys.stdout.write(\"\\rTiến trình: %.2f%%\" % (((i+1)/size)*100))\n",
    "#         sys.stdout.flush()"
   ]
  },
  {
   "cell_type": "markdown",
   "metadata": {},
   "source": [
    "<h1>2.Mupliply 2 Matrices using Numpy </h1>"
   ]
  },
  {
   "cell_type": "code",
   "execution_count": 7,
   "metadata": {},
   "outputs": [],
   "source": [
    "def numpy_muptiply(aa,bb):\n",
    "    ans = np.matmul(aa,bb)\n"
   ]
  },
  {
   "cell_type": "markdown",
   "metadata": {},
   "source": [
    "<h1>3.Muptiply 2 Matrices using C </h1>"
   ]
  },
  {
   "cell_type": "code",
   "execution_count": 8,
   "metadata": {},
   "outputs": [],
   "source": [
    "\n",
    "# %%bash\n",
    "\n",
    "# gcc -o source.ipynb Source.c\n",
    "\n",
    "# ./source.ipynb\n",
    "def get_Ctime():\n",
    "    output = !gcc Source.c -o main && ./main\n",
    "    interval = float(output[0])\n",
    "    return interval"
   ]
  },
  {
   "cell_type": "markdown",
   "metadata": {},
   "source": [
    "<h1 align=\"center\">MEASURING </h1>"
   ]
  },
  {
   "cell_type": "markdown",
   "metadata": {},
   "source": [
    "- Initialize the array list_N, which represents the sizes of the matrices.\n",
    "- Initialize three lists to store the runtime of the three methods.\n",
    "- For each size:\n",
    "    - Call the Generate() function to randomly generate a matrix.\n",
    "    - Measure the runtime.\n",
    "    - Record the runtime in the corresponding list. This process allows us to compare the performance of the three matrix multiplication methods for different matrix sizes.\n",
    "    "
   ]
  },
  {
   "cell_type": "code",
   "execution_count": 9,
   "metadata": {
    "scrolled": true
   },
   "outputs": [
    {
     "name": "stdout",
     "output_type": "stream",
     "text": [
      "Time 1, size of Matrix = 1\n",
      "               GENERATE SUCCESS \n",
      "-----PYTHON SUCCESS-----\n",
      "-----NUMPY SUCCESS-----\n",
      "-----C SUCCESSS-----\n",
      "{'py_time: ': 0.0064373016357421875, 'numpy time: ': 0.06079673767089844, 'C time: ': 0.000471}\n",
      "Time 2, size of Matrix = 20\n",
      "               GENERATE SUCCESS \n",
      "-----PYTHON SUCCESS-----\n",
      "-----NUMPY SUCCESS-----\n",
      "-----C SUCCESSS-----\n",
      "{'py_time: ': 0.9744167327880859, 'numpy time: ': 0.10919570922851562, 'C time: ': 0.031479999999999994}\n",
      "Time 3, size of Matrix = 50\n",
      "               GENERATE SUCCESS \n",
      "-----PYTHON SUCCESS-----\n",
      "-----NUMPY SUCCESS-----\n",
      "-----C SUCCESSS-----\n",
      "{'py_time: ': 14.744043350219727, 'numpy time: ': 0.5247592926025391, 'C time: ': 0.484404}\n",
      "Time 4, size of Matrix = 100\n",
      "               GENERATE SUCCESS \n",
      "-----PYTHON SUCCESS-----\n",
      "-----NUMPY SUCCESS-----\n",
      "-----C SUCCESSS-----\n",
      "{'py_time: ': 119.87805366516113, 'numpy time: ': 2.202749252319336, 'C time: ': 4.056447}\n",
      "Time 5, size of Matrix = 200\n",
      "               GENERATE SUCCESS \n",
      "-----PYTHON SUCCESS-----\n",
      "-----NUMPY SUCCESS-----\n",
      "-----C SUCCESSS-----\n",
      "{'py_time: ': 1071.5341567993164, 'numpy time: ': 11.59214973449707, 'C time: ': 31.342388999999997}\n",
      "Time 6, size of Matrix = 500\n",
      "               GENERATE SUCCESS \n",
      "-----PYTHON SUCCESS-----\n",
      "-----NUMPY SUCCESS-----\n",
      "-----C SUCCESSS-----\n",
      "{'py_time: ': 15378.80563735962, 'numpy time: ': 127.09927558898926, 'C time: ': 518.657986}\n",
      "Time 7, size of Matrix = 1000\n",
      "               GENERATE SUCCESS \n",
      "-----PYTHON SUCCESS-----\n",
      "-----NUMPY SUCCESS-----\n",
      "-----C SUCCESSS-----\n",
      "{'py_time: ': 131612.80369758606, 'numpy time: ': 1568.3445930480957, 'C time: ': 5395.911204}\n",
      "Time 8, size of Matrix = 1500\n",
      "               GENERATE SUCCESS \n",
      "-----PYTHON SUCCESS-----\n",
      "-----NUMPY SUCCESS-----\n",
      "-----C SUCCESSS-----\n",
      "{'py_time: ': 497063.26389312744, 'numpy time: ': 8004.031181335449, 'C time: ': 17779.117712000003}\n",
      "py time: [0.0064373016357421875, 0.9744167327880859, 14.744043350219727, 119.87805366516113, 1071.5341567993164, 15378.80563735962, 131612.80369758606, 497063.26389312744]\n",
      "numpy time: [0.06079673767089844, 0.10919570922851562, 0.5247592926025391, 2.202749252319336, 11.59214973449707, 127.09927558898926, 1568.3445930480957, 8004.031181335449]\n",
      "C time: [0.000471, 0.031479999999999994, 0.484404, 4.056447, 31.342388999999997, 518.657986, 5395.911204, 17779.117712000003]\n"
     ]
    }
   ],
   "source": [
    "\n",
    "list_N =[1,20,50,1e2,200,500,1000,1500]\n",
    "list_N = [int(x) for x in list_N]\n",
    "\n",
    "py_time=[]\n",
    "numpy_time=[]\n",
    "C_time=[]\n",
    "\n",
    "for i in range(len(list_N)):\n",
    "    temp_time = {}\n",
    "    print(f\"Time {i+1}, size of Matrix = {list_N[i]}\")\n",
    "    size = list_N[i]\n",
    "    Generate(size)   # GENERATE 2 MATRIX\n",
    "    a,b = py_read() # READ MATRIX FROM INPUT FILE\n",
    "   \n",
    "    \n",
    "    ans = [[0]*size for _ in range(size)]\n",
    "    py_start = time.time()\n",
    "    py_muptiply(a,b,size,ans)\n",
    "    py_end = time.time()\n",
    "    py_time.append((-py_start + py_end)*1000)\n",
    "    print(\"-----PYTHON SUCCESS-----\")\n",
    "    temp_time[\"py_time: \"] = ((-py_start + py_end)*1000)\n",
    "    \n",
    "    numpy_start = time.time()\n",
    "    numpy_muptiply(np.array(a),np.array(b))\n",
    "    numpy_end = time.time()\n",
    "    numpy_time.append((-numpy_start + numpy_end)*1000)\n",
    "    print(\"-----NUMPY SUCCESS-----\")\n",
    "    temp_time[\"numpy time: \"] =  (-numpy_start + numpy_end)*1000\n",
    "    \n",
    "    \n",
    "    t = get_Ctime()*1000\n",
    "    C_time.append(t)\n",
    "    print(\"-----C SUCCESSS-----\")\n",
    "    temp_time[\"C time: \"] = t\n",
    "    \n",
    "    print(temp_time)\n",
    "          \n",
    "          \n",
    "print( \"py time:\",py_time)\n",
    "print(\"numpy time:\",numpy_time)\n",
    "print(\"C time:\",C_time)"
   ]
  },
  {
   "cell_type": "markdown",
   "metadata": {},
   "source": [
    "<h1 align =\"center\"> DRAW THE CHART WITH MATPLOTLIB </h1>"
   ]
  },
  {
   "cell_type": "markdown",
   "metadata": {},
   "source": [
    "\n",
    "From the array **list_N** and the three runtime lists: **py_time**, **numpy_time**,**C_time**, draw a graph representing the matrix size and the corresponding runtime of the three methods. This process allows us to visually compare the performance of the three matrix multiplication methods for different matrix sizes."
   ]
  },
  {
   "cell_type": "code",
   "execution_count": 11,
   "metadata": {},
   "outputs": [
    {
     "data": {
      "image/png": "[encoded data removed]",
      "text/plain": [
       "<Figure size 1000x600 with 1 Axes>"
      ]
     },
     "metadata": {},
     "output_type": "display_data"
    }
   ],
   "source": [
    "\n",
    "plt.figure(figsize=(10,6))\n",
    "plt.loglog(list_N, py_time, 'o-', label='Python')\n",
    "plt.loglog(list_N, numpy_time, 'o-', label='Numpy')\n",
    "plt.loglog(list_N, C_time, 'o-', label='C')\n",
    "plt.xlabel('Matrix Size')\n",
    "plt.ylabel('Time (ms)')\n",
    "plt.legend()\n",
    "plt.title('Time Complexity of Matrix Multiplication')\n",
    "plt.grid(True)\n",
    "plt.show()"
   ]
  },
  {
   "cell_type": "markdown",
   "metadata": {},
   "source": [
    "<h1 align =\"center\"> CONCLUSION </h1>"
   ]
  },
  {
   "cell_type": "markdown",
   "metadata": {},
   "source": [
    "\n",
    "\n",
    "**Based on the above graph, we can make the following observations:**\n",
    "\n",
    "- Python: Initially, with a 1x1 square matrix, Python list performs better than Numpy but is inferior to C. From the size of 10x10 onwards, Python list has the highest time complexity among the three methods. It is always about 100 times higher than Numpy and C. At large sizes, from about 500x500 onwards, there is a clear difference in the runtime of the program.\n",
    "\n",
    "- Numpy: From size 1x1 to about 50x50, Numpy has a small time complexity, but it is still slightly higher than C. However, from size 100x100 onwards, Numpy has a better time complexity than C.\n",
    "\n",
    "- C: We can see that the graph of C has the lowest slope, so we can say that C provides the most stable computation. Multiplying two matrices in C language does not have as high a time complexity as Python list, and it is only slightly higher than Numpy at large sizes.\n",
    "\n",
    "\n"
   ]
  },
  {
   "cell_type": "code",
   "execution_count": null,
   "metadata": {},
   "outputs": [],
   "source": []
  }
 ],
 "metadata": {
  "kernelspec": {
   "display_name": "Python 3 (ipykernel)",
   "language": "python",
   "name": "python3"
  },
  "language_info": {
   "codemirror_mode": {
    "name": "ipython",
    "version": 3
   },
   "file_extension": ".py",
   "mimetype": "text/x-python",
   "name": "python",
   "nbconvert_exporter": "python",
   "pygments_lexer": "ipython3",
   "version": "3.8.8"
  }
 },
 "nbformat": 4,
 "nbformat_minor": 2
}
